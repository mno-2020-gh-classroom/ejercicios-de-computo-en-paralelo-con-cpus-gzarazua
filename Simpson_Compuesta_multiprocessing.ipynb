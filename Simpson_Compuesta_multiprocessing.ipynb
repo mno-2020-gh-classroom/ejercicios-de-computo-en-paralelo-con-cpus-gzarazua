{
 "cells": [
  {
   "cell_type": "markdown",
   "metadata": {},
   "source": [
    "De forma sencilla se puede ver que la regla compuesta de Simpson compuesta $S_c(f)$ se escribe como:\n",
    "\n",
    "$$S_c(f) = \\displaystyle \\frac{h}{3n} \\left [ f(x_0) + f(x_n) + 2 \\sum_{i=1}^{\\frac{n}{2}-1}f(x_{2i}) + 4 \\sum_{i=1}^{\\frac{n}{2}}f(x_{2i-1})\\right ] $$\n",
    "con $h=b-a$ y $n$ número de subintervalos (par).\n",
    "\n",
    "Nota: Los nodos para el caso de Simpson se obtienen con la fórmula: $x_i = a +\\frac{i}{2}\\hat{h}, \\forall i=0,\\dots,2n, \\hat{h}=\\frac{h}{n}$.\n",
    "\n",
    "Lo siguiente sirve de ayuda. Consideramos un caso de $n=6$ subintervalos, $2n+1=13$ nodos de $x_0$ a $x_{12}$. "
   ]
  },
  {
   "cell_type": "markdown",
   "metadata": {},
   "source": [
    "Los siguientes índices de los nodos se multiplican por 4 y son los índices que el subproceso 0 trabajará:"
   ]
  },
  {
   "cell_type": "code",
   "execution_count": 1,
   "metadata": {},
   "outputs": [],
   "source": [
    "begin=1\n",
    "end=6"
   ]
  },
  {
   "cell_type": "code",
   "execution_count": 2,
   "metadata": {},
   "outputs": [
    {
     "name": "stdout",
     "output_type": "stream",
     "text": [
      "1\n",
      "3\n",
      "5\n"
     ]
    }
   ],
   "source": [
    "for i in range(begin,end+1,2):\n",
    "    print(i)"
   ]
  },
  {
   "cell_type": "markdown",
   "metadata": {},
   "source": [
    "Los siguientes índices de los nodos se multiplican por 2 y son los índices que el subproceso 0 trabajará:"
   ]
  },
  {
   "cell_type": "code",
   "execution_count": 3,
   "metadata": {},
   "outputs": [
    {
     "name": "stdout",
     "output_type": "stream",
     "text": [
      "2\n",
      "4\n",
      "6\n"
     ]
    }
   ],
   "source": [
    "for i in range(begin+1,end+1,2):\n",
    "    print(i)"
   ]
  },
  {
   "cell_type": "code",
   "execution_count": 4,
   "metadata": {},
   "outputs": [],
   "source": [
    "begin=7\n",
    "end=12"
   ]
  },
  {
   "cell_type": "markdown",
   "metadata": {},
   "source": [
    "Los siguientes índices se multiplican por 4 y son los índices que el subproceso 1 trabajará:"
   ]
  },
  {
   "cell_type": "code",
   "execution_count": 5,
   "metadata": {},
   "outputs": [
    {
     "name": "stdout",
     "output_type": "stream",
     "text": [
      "7\n",
      "9\n",
      "11\n"
     ]
    }
   ],
   "source": [
    "for i in range(begin,end+1,2):\n",
    "    print(i)"
   ]
  },
  {
   "cell_type": "markdown",
   "metadata": {},
   "source": [
    "Los siguientes índices se multiplican por 2 y son los índices que el subproceso 1 trabajará:"
   ]
  },
  {
   "cell_type": "code",
   "execution_count": 6,
   "metadata": {},
   "outputs": [
    {
     "name": "stdout",
     "output_type": "stream",
     "text": [
      "8\n",
      "10\n",
      "12\n"
     ]
    }
   ],
   "source": [
    "for i in range(begin+1,end+1,2):\n",
    "    print(i)"
   ]
  },
  {
   "cell_type": "code",
   "execution_count": 7,
   "metadata": {},
   "outputs": [],
   "source": [
    "import math\n",
    "from multiprocessing import Pool \n",
    "from scipy.integrate import quad\n",
    "import time\n",
    "import multiprocessing as mp"
   ]
  },
  {
   "cell_type": "markdown",
   "metadata": {},
   "source": [
    "**¿Qué restricciones se deben colocar a las variables $n, ns\\text{_}p$ y $p$ para que el programa siguiente obtenga resultados correctos?**\n",
    "\n",
    "por ejemplo si pruebas con $n=6, p=2, ns\\text{_}p=6$ obtienes un error relativo de $10^{-7}$."
   ]
  },
  {
   "cell_type": "markdown",
   "metadata": {},
   "source": [
    "**Solución**"
   ]
  },
  {
   "cell_type": "markdown",
   "metadata": {},
   "source": [
    "Para responder a la pregunta anterior, primero veamos qué pasa cuando $n=5$, $p=2$ y entonces $ns\\text{_}p=5$.\n",
    "\n",
    "Sean las siguientes variables el inicio y fin de los subprocesos 0 y 1, respectivamente:\n",
    "\n",
    "$begin = (mi\\text{_}id*ns\\text{_}p)+1 = (0*5)+1=1$\n",
    "\n",
    "$end = begin-1+ns\\text{_}p=1-1+5=5$\n",
    "\n",
    "$begin = (mi\\text{_}id*ns\\text{_}p)+1 = (1*5)+1=6$\n",
    "\n",
    "$end = begin-1+ns\\text{_}p=6-1+5=10$\n",
    "\n",
    "Teniendo así los siguientes índices:"
   ]
  },
  {
   "cell_type": "code",
   "execution_count": 8,
   "metadata": {},
   "outputs": [],
   "source": [
    "begin=1\n",
    "end=5"
   ]
  },
  {
   "cell_type": "markdown",
   "metadata": {},
   "source": [
    "índices que se multiplicarán por 4 en el subproceso 0:"
   ]
  },
  {
   "cell_type": "code",
   "execution_count": 9,
   "metadata": {},
   "outputs": [
    {
     "name": "stdout",
     "output_type": "stream",
     "text": [
      "1\n",
      "3\n",
      "5\n"
     ]
    }
   ],
   "source": [
    "for i in range(begin,end+1,2):\n",
    "    print(i)"
   ]
  },
  {
   "cell_type": "markdown",
   "metadata": {},
   "source": [
    "índices que se multiplicarán por 2 en el subproceso 0:"
   ]
  },
  {
   "cell_type": "code",
   "execution_count": 10,
   "metadata": {},
   "outputs": [
    {
     "name": "stdout",
     "output_type": "stream",
     "text": [
      "2\n",
      "4\n"
     ]
    }
   ],
   "source": [
    "for i in range(begin+1,end+1,2):\n",
    "    print(i)"
   ]
  },
  {
   "cell_type": "code",
   "execution_count": 11,
   "metadata": {},
   "outputs": [],
   "source": [
    "begin=6\n",
    "end=10"
   ]
  },
  {
   "cell_type": "markdown",
   "metadata": {},
   "source": [
    "índices que se multiplicarán por 4 en el subproceso 1:"
   ]
  },
  {
   "cell_type": "code",
   "execution_count": 12,
   "metadata": {},
   "outputs": [
    {
     "name": "stdout",
     "output_type": "stream",
     "text": [
      "6\n",
      "8\n",
      "10\n"
     ]
    }
   ],
   "source": [
    "for i in range(begin,end+1,2):\n",
    "    print(i)"
   ]
  },
  {
   "cell_type": "markdown",
   "metadata": {},
   "source": [
    "índices que se multiplicarán por 2 en el subproceso 1:"
   ]
  },
  {
   "cell_type": "code",
   "execution_count": 13,
   "metadata": {},
   "outputs": [
    {
     "name": "stdout",
     "output_type": "stream",
     "text": [
      "7\n",
      "9\n"
     ]
    }
   ],
   "source": [
    "for i in range(begin+1,end+1,2):\n",
    "    print(i)"
   ]
  },
  {
   "cell_type": "markdown",
   "metadata": {},
   "source": [
    "Los índices impares son los que se deben multiplicar por 4 y los pares por 2 y como se puede ver en los for's anteriores en el subproceso 0, sí se está haciendo correctamente pero, en el subproceso 1 los pares se están multiplicando 4 y los impares por 2, lo cuál es incorrecto.\n",
    "\n",
    "Lo que se debe cumplir para que los índices impares se multipliquen por 4 y los pares por 2 es que la variable begin sea siempre impar. Es decir, esta variable tiene que ser de la forma $2k+1$:\n",
    "\n",
    "$ begin = (mi\\text{_}id*ns\\text{_}p)+1 = (2*k)+1$\n",
    "\n",
    "entonces $mi\\text{_}id*ns\\text{_}p=2*k$\n",
    "\n",
    "Lo que quiere decir que el producto anterior debe ser par. Para que un producto entre dos números sea par se deben cumplir los siguientes casos:\n",
    "\n",
    "1.-$mi\\text{_}id$ sea par y $ns\\text{_}p$ sea par\n",
    "\n",
    "2.-$mi\\text{_}id$ sea impar y $ns\\text{_}p$ sea par\n",
    "\n",
    "3.-$mi\\text{_}id$ sea par y $ns\\text{_}p$ sea impar\n",
    "\n",
    "Sin embargo, el caso 3 no se podría cumplir dado que $mi\\text{_}id$ puede ser par o impar, por lo que la única opción de que ésto se cumpla es en los casos 1 y 2, es decir, que $ns\\text{_}p$ sea par. Esto significa que: $ns\\text{_}p$ es de la forma $(2*m)$:\n",
    "\n",
    "Entonces:\n",
    "\n",
    "$$ns\\text{_}p=\\frac{2*n}{p}=(2*m)$$\n",
    "\n",
    "Para que el cociente anterior sea par, dado que el numerador es par, $p$ puede ser par o impar y de igual forma $n$ puede ser par o impar, más específicamente:\n",
    "\n",
    "$\\frac{2*n}{p}=2*m$ entonces $\\frac{n}{p}=m$ por lo que $n=p*m$\n",
    "\n",
    "Otro punto importante de observar es que en el algoritmo se le está aplicando la función entero a ns_p, por lo que si el número de nodos $(2*n)$ no es divisible entre el número de subprocesos ($p$), se estarán perdiendo nodos por evalúar.\n",
    "\n",
    "**Dado lo anterior, $ns\\text{_}p$ debe ser par y entero y $n$ tiene que ser múltiplo de $p$ para que el programa siguiente obtenga resultados correctos.**"
   ]
  },
  {
   "cell_type": "markdown",
   "metadata": {},
   "source": [
    "Ahora haremos la prueba con $n=6, p=2, ns\\text{_}p=6$ comprobando que obtenemos una buena aproximación con un error relativo de $10^{-7}$."
   ]
  },
  {
   "cell_type": "code",
   "execution_count": 14,
   "metadata": {},
   "outputs": [],
   "source": [
    "a=0\n",
    "b=1\n",
    "h=b-a\n",
    "f=lambda x: math.exp(-x**2)"
   ]
  },
  {
   "cell_type": "code",
   "execution_count": 15,
   "metadata": {},
   "outputs": [],
   "source": [
    "p=2 #número de subprocesos a lanzar"
   ]
  },
  {
   "cell_type": "code",
   "execution_count": 16,
   "metadata": {},
   "outputs": [],
   "source": [
    "n=6 #número de subintervalos a lanzar\n",
    "h_hat=h/n"
   ]
  },
  {
   "cell_type": "code",
   "execution_count": 17,
   "metadata": {},
   "outputs": [],
   "source": [
    "nt=2*n #variable de apoyo para definir ns_p\n",
    "ns_p=nt/p"
   ]
  },
  {
   "cell_type": "code",
   "execution_count": 18,
   "metadata": {},
   "outputs": [
    {
     "data": {
      "text/plain": [
       "12"
      ]
     },
     "execution_count": 18,
     "metadata": {},
     "output_type": "execute_result"
    }
   ],
   "source": [
    "nt"
   ]
  },
  {
   "cell_type": "code",
   "execution_count": 19,
   "metadata": {},
   "outputs": [
    {
     "data": {
      "text/plain": [
       "6.0"
      ]
     },
     "execution_count": 19,
     "metadata": {},
     "output_type": "execute_result"
    }
   ],
   "source": [
    "ns_p"
   ]
  },
  {
   "cell_type": "code",
   "execution_count": 20,
   "metadata": {},
   "outputs": [
    {
     "data": {
      "text/plain": [
       "6"
      ]
     },
     "execution_count": 20,
     "metadata": {},
     "output_type": "execute_result"
    }
   ],
   "source": [
    "ns_p=int(ns_p)\n",
    "ns_p"
   ]
  },
  {
   "cell_type": "code",
   "execution_count": 21,
   "metadata": {},
   "outputs": [],
   "source": [
    "def Scf_parallel(mi_id):\n",
    "    \"\"\"\n",
    "    Compute numerical approximation using Simpson rule in an interval\n",
    "    Nodes are generated via formula: x_i = a+i/2*h_hat for i=0,1,...,2n and h_hat=(b-a)/n\n",
    "    n must be an even number\n",
    "    Args:\n",
    "        mi_id (in): id of subprocess: 0,1,2,...\n",
    "    \"\"\"\n",
    "    begin = (mi_id*ns_p)+1\n",
    "    end = begin-1+ns_p\n",
    "    sum1=0\n",
    "    #next for loop considers sum that is multiplied by 4 in the expression\n",
    "    for i in range(begin,end+1,2):\n",
    "        x = a+i/2*h_hat\n",
    "        sum1+=f(x)\n",
    "    sum1=4*sum1\n",
    "    sum2=0\n",
    "    #next for loop considers sum that is multiplied by 2 in the expression\n",
    "    for i in range(begin+1,end+1,2):\n",
    "        x = a+i/2*h_hat\n",
    "        sum2+=f(x)\n",
    "    sum2=2*sum2\n",
    "    return sum1+sum2\n",
    "\n",
    "if __name__=='__main__':\n",
    "    start_time=time.time()\n",
    "    with Pool(processes=p) as pool:\n",
    "        results = pool.map(Scf_parallel,range(p))\n",
    "        aprox=h/(6*n)*(f(a)+sum(results)-f(b)) \n",
    "    end_time=time.time()"
   ]
  },
  {
   "cell_type": "markdown",
   "metadata": {},
   "source": [
    "Para entender un poco mejor el funcionamiento de esta función, a continuación se presenta el siguiente esquema:"
   ]
  },
  {
   "cell_type": "markdown",
   "metadata": {},
   "source": [
    "<img src=\"https://dl.dropboxusercontent.com/s/ga8671csua0wzg7/Esquema_Scf_parallel.png?dl=0\" heigth=\"500\" width=\"1500\">"
   ]
  },
  {
   "cell_type": "markdown",
   "metadata": {},
   "source": [
    "**En el bloque del with ¿por qué tenemos que dividir por $\\frac{}{6n}$ en lugar de por $\\frac{}{3n}$ y por qué tenemos que restar $f(b)$?**\n"
   ]
  },
  {
   "cell_type": "markdown",
   "metadata": {},
   "source": [
    "**Solución**"
   ]
  },
  {
   "cell_type": "markdown",
   "metadata": {},
   "source": [
    "*Primera pregunta*:\n",
    "Para entenderlo primeramente hay que hacer la observacion de que en la expresión $\\frac{h}{3n}$ vista en clase (1.5.Integracion_numerica), considera a n como el total de intervalos (no de subintervalos como aquí). Considerando que para la función Scf_parallel el subintervalo es de tamaño $\\frac{b-a}{n}$, el del intervalo es $\\frac{b-a}{2n}$ y que $h=b-a$, se tiene:\n",
    "\n",
    "\\begin{equation*}\n",
    "    \\frac{\\text{Tamaño del intervalo}}{3} = \\frac{\\frac{b-a}{2n}}{3} = \\frac{b-a}{6n} = \\frac{h}{6n}\n",
    "\\end{equation*}\n",
    "\n",
    "*Segunda pregunta*:\n",
    "Como se explicó en el esquema de arriba, los subintervalos abarcan $n$ nodos, es decir, valúa $f(x)$ del nodo $1$ al $2n$ (si se cumple que $n$ es múltiplo de $p$), y es justo el último subproceso que valúa la función en el nodo $2n$ y lo multiplica por 2, es decir, agrega $2f(x_{2n})=2f(b)$, algo que no está contemplado en la expresión conocida del algoritmo de integración de simpson, pues en dicha fórmula sólo se suma una vez $f(b)$. Por lo anterior se resta una vez $f(b)$. La siguiente fórmula exhibe esta equivalencia*:\n",
    "\n",
    "$$ S_c(f) = \\displaystyle \\frac{h}{6n} \\left [ f(x_0) + 2 \\left( \\sum_{i \\text{ par; }0<i\\mathbf{\\color{red}{<}}2n}f(x_{i}) \\right) + 4 \\left( \\sum_{i \\text{ impar; }0<i<2n}f(x_{i}) \\right) \\mathbf{\\color{red}{+}} f(x_{2n}) \\right ] =\n",
    "\\displaystyle \\frac{h}{6n} \\left [ f(x_0) + 2 \\left( \\sum_{i \\text{ par; }0<i \\mathbf{\\color{red}{\\leqslant}} 2n}f(x_{i}) \\right) + 4 \\left( \\sum_{i \\text{ impar; }0<i<2n}f(x_{i}) \\right) \\mathbf{\\color{red}{-}} f(x_{2n}) \\right ]$$"
   ]
  },
  {
   "cell_type": "code",
   "execution_count": 22,
   "metadata": {},
   "outputs": [
    {
     "data": {
      "text/plain": [
       "0.7468245263791945"
      ]
     },
     "execution_count": 22,
     "metadata": {},
     "output_type": "execute_result"
    }
   ],
   "source": [
    "aprox"
   ]
  },
  {
   "cell_type": "code",
   "execution_count": 23,
   "metadata": {},
   "outputs": [],
   "source": [
    "obj, err = quad(f, a, b)"
   ]
  },
  {
   "cell_type": "code",
   "execution_count": 24,
   "metadata": {},
   "outputs": [
    {
     "data": {
      "text/plain": [
       "0.7468241328124271"
      ]
     },
     "execution_count": 24,
     "metadata": {},
     "output_type": "execute_result"
    }
   ],
   "source": [
    "obj"
   ]
  },
  {
   "cell_type": "code",
   "execution_count": 25,
   "metadata": {},
   "outputs": [],
   "source": [
    "def err_relativo(aprox, obj):\n",
    "    return math.fabs(aprox-obj)/math.fabs(obj) #obsérvese el uso de la librería math"
   ]
  },
  {
   "cell_type": "code",
   "execution_count": 26,
   "metadata": {},
   "outputs": [
    {
     "data": {
      "text/plain": [
       "5.26987211722925e-07"
      ]
     },
     "execution_count": 26,
     "metadata": {},
     "output_type": "execute_result"
    }
   ],
   "source": [
    "err_relativo(aprox,obj)"
   ]
  },
  {
   "cell_type": "markdown",
   "metadata": {},
   "source": [
    "**¿Qué pasa si $n$ no es par? ¿qué tendríamos que modificar en la implementación si no es par?**"
   ]
  },
  {
   "cell_type": "markdown",
   "metadata": {},
   "source": [
    "**Solución**"
   ]
  },
  {
   "cell_type": "markdown",
   "metadata": {},
   "source": [
    "Del análisis hecho anteriormente, concluimos que las restricciones son:\n",
    "\n",
    "1. $ns\\text{_}p$ debe ser entero y par \n",
    "2. $n$ debe ser múltiplo de $p$\n",
    "3. $p$ debe ser mayor o igual a 2 (para aprovechar que está en paralelo)\n",
    "\n",
    "Además, mencionamos que la restricción de que $n$ fuese par no era un requisito necesario con respecto a la asignación de los índices de los nodos a los $p$ subprocesos. Por ello, hicimos una prueba con $n$ impar cumpliendo las 3 condiciones de arriba:"
   ]
  },
  {
   "cell_type": "markdown",
   "metadata": {},
   "source": [
    "Veamos qué pasa cuando $n=9$, $p=3$ y entonces $ns\\text{_}p=6$.\n",
    "\n",
    "Sean las siguientes variables el inicio y fin de los subprocesos 0, 1 y 2 respectivamente:\n",
    "\n",
    "$begin = (mi\\text{_}id*ns\\text{_}p)+1 = (0*6)+1=1$\n",
    "\n",
    "$end = begin-1+ns\\text{_}p=1-1+6=6$\n",
    "\n",
    "$begin = (mi\\text{_}id*ns\\text{_}p)+1 = (1*6)+1=7$\n",
    "\n",
    "$end = begin-1+ns\\text{_}p=7-1+6=12$\n",
    "\n",
    "$begin = (mi\\text{_}id*ns\\text{_}p)+1 = (2*6)+1=13$\n",
    "\n",
    "$end = begin-1+ns\\text{_}p=13-1+6=18$\n",
    "\n",
    "Teniendo así los siguientes índices:"
   ]
  },
  {
   "cell_type": "code",
   "execution_count": 27,
   "metadata": {},
   "outputs": [],
   "source": [
    "begin=1\n",
    "end=6"
   ]
  },
  {
   "cell_type": "markdown",
   "metadata": {},
   "source": [
    "índices que se multiplicarán por 4 en el subproceso 0:"
   ]
  },
  {
   "cell_type": "code",
   "execution_count": 28,
   "metadata": {},
   "outputs": [
    {
     "name": "stdout",
     "output_type": "stream",
     "text": [
      "1\n",
      "3\n",
      "5\n"
     ]
    }
   ],
   "source": [
    "for i in range(begin,end+1,2):\n",
    "    print(i)"
   ]
  },
  {
   "cell_type": "markdown",
   "metadata": {},
   "source": [
    "índices que se multiplicarán por 2 en el subproceso 0:"
   ]
  },
  {
   "cell_type": "code",
   "execution_count": 29,
   "metadata": {},
   "outputs": [
    {
     "name": "stdout",
     "output_type": "stream",
     "text": [
      "2\n",
      "4\n",
      "6\n"
     ]
    }
   ],
   "source": [
    "for i in range(begin+1,end+1,2):\n",
    "    print(i)"
   ]
  },
  {
   "cell_type": "code",
   "execution_count": 30,
   "metadata": {},
   "outputs": [],
   "source": [
    "begin=7\n",
    "end=12"
   ]
  },
  {
   "cell_type": "markdown",
   "metadata": {},
   "source": [
    "índices que se multiplicarán por 4 en el subproceso 1:"
   ]
  },
  {
   "cell_type": "code",
   "execution_count": 31,
   "metadata": {},
   "outputs": [
    {
     "name": "stdout",
     "output_type": "stream",
     "text": [
      "7\n",
      "9\n",
      "11\n"
     ]
    }
   ],
   "source": [
    "for i in range(begin,end+1,2):\n",
    "    print(i)"
   ]
  },
  {
   "cell_type": "markdown",
   "metadata": {},
   "source": [
    "índices que se multiplicarán por 2 en el subproceso 1:"
   ]
  },
  {
   "cell_type": "code",
   "execution_count": 32,
   "metadata": {},
   "outputs": [
    {
     "name": "stdout",
     "output_type": "stream",
     "text": [
      "8\n",
      "10\n",
      "12\n"
     ]
    }
   ],
   "source": [
    "for i in range(begin+1,end+1,2):\n",
    "    print(i)"
   ]
  },
  {
   "cell_type": "code",
   "execution_count": 33,
   "metadata": {},
   "outputs": [],
   "source": [
    "begin=13\n",
    "end=18"
   ]
  },
  {
   "cell_type": "markdown",
   "metadata": {},
   "source": [
    "índices que se multiplicarán por 4 en el subproceso 2:"
   ]
  },
  {
   "cell_type": "code",
   "execution_count": 34,
   "metadata": {},
   "outputs": [
    {
     "name": "stdout",
     "output_type": "stream",
     "text": [
      "13\n",
      "15\n",
      "17\n"
     ]
    }
   ],
   "source": [
    "for i in range(begin,end+1,2):\n",
    "    print(i)"
   ]
  },
  {
   "cell_type": "markdown",
   "metadata": {},
   "source": [
    "índices que se multiplicarán por 2 en el subproceso 2:"
   ]
  },
  {
   "cell_type": "code",
   "execution_count": 35,
   "metadata": {},
   "outputs": [
    {
     "name": "stdout",
     "output_type": "stream",
     "text": [
      "14\n",
      "16\n",
      "18\n"
     ]
    }
   ],
   "source": [
    "for i in range(begin+1,end+1,2):\n",
    "    print(i)"
   ]
  },
  {
   "cell_type": "markdown",
   "metadata": {},
   "source": [
    "Con esto, verificamos que los índices impares son los que se multiplican por 4 y los pares por 2, es decir, sí se están multiplicando correctamente los sumandos por 2 y por 4 en cada subproceso con la definición de begin y end de cada loop. Por lo que procedemos a correr el programa anterior modificando los parámetros:"
   ]
  },
  {
   "cell_type": "code",
   "execution_count": 36,
   "metadata": {},
   "outputs": [],
   "source": [
    "a=0\n",
    "b=1\n",
    "h=b-a\n",
    "f=lambda x: math.exp(-x**2)\n",
    "p=3 #número de subprocesos\n",
    "n=9 #número de subintervalos a lanzar en este caso es impar, pero debe ser múltiplo de p\n",
    "h_hat=h/n\n",
    "nt=2*n #variable de apoyo para definir ns_p\n",
    "ns_p=nt/p #tiene que ser par"
   ]
  },
  {
   "cell_type": "code",
   "execution_count": 37,
   "metadata": {},
   "outputs": [
    {
     "data": {
      "text/plain": [
       "18"
      ]
     },
     "execution_count": 37,
     "metadata": {},
     "output_type": "execute_result"
    }
   ],
   "source": [
    "nt"
   ]
  },
  {
   "cell_type": "code",
   "execution_count": 38,
   "metadata": {},
   "outputs": [
    {
     "data": {
      "text/plain": [
       "6.0"
      ]
     },
     "execution_count": 38,
     "metadata": {},
     "output_type": "execute_result"
    }
   ],
   "source": [
    "ns_p"
   ]
  },
  {
   "cell_type": "code",
   "execution_count": 39,
   "metadata": {},
   "outputs": [
    {
     "data": {
      "text/plain": [
       "6"
      ]
     },
     "execution_count": 39,
     "metadata": {},
     "output_type": "execute_result"
    }
   ],
   "source": [
    "ns_p=int(ns_p)\n",
    "ns_p"
   ]
  },
  {
   "cell_type": "code",
   "execution_count": 40,
   "metadata": {},
   "outputs": [],
   "source": [
    "def Scf_parallel(mi_id):\n",
    "    \"\"\"\n",
    "    Compute numerical approximation using Simpson rule in an interval\n",
    "    Nodes are generated via formula: x_i = a+i/2*h_hat for i=0,1,...,2n and h_hat=(b-a)/n\n",
    "    n must be an even number\n",
    "    Args:\n",
    "        mi_id (in): id of subprocess: 0,1,2,...\n",
    "    \"\"\"\n",
    "    begin = (mi_id*ns_p)+1\n",
    "    end = begin-1+ns_p\n",
    "    sum1=0\n",
    "    #next for loop considers sum that is multiplied by 4 in the expression\n",
    "    for i in range(begin,end+1,2):\n",
    "        x = a+i/2*h_hat\n",
    "        sum1+=f(x)\n",
    "    sum1=4*sum1\n",
    "    sum2=0\n",
    "    #next for loop considers sum that is multiplied by 2 in the expression\n",
    "    for i in range(begin+1,end+1,2):\n",
    "        x = a+i/2*h_hat\n",
    "        sum2+=f(x)\n",
    "    sum2=2*sum2\n",
    "    return sum1+sum2\n",
    "\n",
    "if __name__=='__main__':\n",
    "    start_time=time.time()\n",
    "    with Pool(processes=p) as pool:\n",
    "        results = pool.map(Scf_parallel,range(p))\n",
    "        aprox=h/(6*n)*(f(a)+sum(results)-f(b)) \n",
    "    end_time=time.time()"
   ]
  },
  {
   "cell_type": "code",
   "execution_count": 41,
   "metadata": {},
   "outputs": [
    {
     "data": {
      "text/plain": [
       "0.7468242106299985"
      ]
     },
     "execution_count": 41,
     "metadata": {},
     "output_type": "execute_result"
    }
   ],
   "source": [
    "aprox"
   ]
  },
  {
   "cell_type": "code",
   "execution_count": 42,
   "metadata": {},
   "outputs": [],
   "source": [
    "obj, err = quad(f, a, b)"
   ]
  },
  {
   "cell_type": "code",
   "execution_count": 43,
   "metadata": {},
   "outputs": [
    {
     "data": {
      "text/plain": [
       "0.7468241328124271"
      ]
     },
     "execution_count": 43,
     "metadata": {},
     "output_type": "execute_result"
    }
   ],
   "source": [
    "obj"
   ]
  },
  {
   "cell_type": "code",
   "execution_count": 44,
   "metadata": {},
   "outputs": [],
   "source": [
    "def err_relativo(aprox, obj):\n",
    "    return math.fabs(aprox-obj)/math.fabs(obj) #obsérvese el uso de la librería math"
   ]
  },
  {
   "cell_type": "code",
   "execution_count": 45,
   "metadata": {},
   "outputs": [
    {
     "data": {
      "text/plain": [
       "1.041979871400868e-07"
      ]
     },
     "execution_count": 45,
     "metadata": {},
     "output_type": "execute_result"
    }
   ],
   "source": [
    "err_relativo(aprox,obj)"
   ]
  },
  {
   "cell_type": "markdown",
   "metadata": {},
   "source": [
    "**Conclusión**"
   ]
  },
  {
   "cell_type": "markdown",
   "metadata": {},
   "source": [
    "Verificamos que el error relativo se mantiene en 7 dígitos correctos como en el caso de $n=6, p=2, ns\\text{_}p=6$. Por ello, podemos concluir que si $n$ no es par el programa sigue arrojando buenas aproximaciones sin tener que hacer modificación alguna pues lo importante es que $n$ sea múltiplo de $p$"
   ]
  },
  {
   "cell_type": "markdown",
   "metadata": {},
   "source": [
    "tip: haz una prueba con $n=5$ subintervalos y por tanto $2n+1=11$ nodos. Entonces  $\\hat{h}=\\frac{1}{5}$ y considera extremo izquierdo y derecho a=0, b=1. Luego genera los nodos con la fórmula $x_i=a +\\frac{i}{2}\\hat{h}, \\forall i=0,\\dots,2n$ $(2n=10)$ y considera por ejemplo $p=2$ subprocesos. Checa cuáles sumas se les tiene que multiplicar por 2 y por 4. Luego distribuye en partes iguales así como está la implementación anterior en los dos subprocesos. Revisa cómo quedan distribuidos los nodos en los dos subprocesos y cómo inician los for loops **¿se multiplican correctamente los sumandos por 2 y por 4 en cada subproceso con la definición de begin y end de cada loop**\n",
    "\n",
    "Es un problema de manejo de índices y repartir cantidades iguales a los subprocesos..."
   ]
  }
 ],
 "metadata": {
  "kernelspec": {
   "display_name": "Python 3",
   "language": "python",
   "name": "python3"
  },
  "language_info": {
   "codemirror_mode": {
    "name": "ipython",
    "version": 3
   },
   "file_extension": ".py",
   "mimetype": "text/x-python",
   "name": "python",
   "nbconvert_exporter": "python",
   "pygments_lexer": "ipython3",
   "version": "3.7.4"
  }
 },
 "nbformat": 4,
 "nbformat_minor": 4
}
