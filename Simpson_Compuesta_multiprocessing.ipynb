{
 "cells": [
  {
   "cell_type": "markdown",
   "metadata": {},
   "source": [
    "De forma sencilla se puede ver que la regla compuesta de Simpson compuesta $S_c(f)$ se escribe como:\n",
    "\n",
    "$$S_c(f) = \\displaystyle \\frac{h}{3n} \\left [ f(x_0) + f(x_n) + 2 \\sum_{i=1}^{\\frac{n}{2}-1}f(x_{2i}) + 4 \\sum_{i=1}^{\\frac{n}{2}}f(x_{2i-1})\\right ] $$\n",
    "con $h=b-a$ y $n$ número de subintervalos (par).\n",
    "\n",
    "Nota: Los nodos para el caso de Simpson se obtienen con la fórmula: $x_i = a +\\frac{i}{2}\\hat{h}, \\forall i=0,\\dots,2n, \\hat{h}=\\frac{h}{n}$.\n",
    "\n",
    "Lo siguiente sirve de ayuda. Consideramos un caso de $n=6$ subintervalos. Estos índices se multiplican por 4 y son los índices que el subproceso 0 trabajará:"
   ]
  },
  {
   "cell_type": "code",
   "execution_count": 1,
   "metadata": {},
   "outputs": [],
   "source": [
    "begin=1\n",
    "end=6"
   ]
  },
  {
   "cell_type": "code",
   "execution_count": 2,
   "metadata": {},
   "outputs": [
    {
     "name": "stdout",
     "output_type": "stream",
     "text": [
      "1\n",
      "3\n",
      "5\n"
     ]
    }
   ],
   "source": [
    "for i in range(begin,end+1,2):\n",
    "    print(i)"
   ]
  },
  {
   "cell_type": "markdown",
   "metadata": {},
   "source": [
    "Estos son los siguientes índices que se multiplican por 2 y son los índices que el subproceso 0 trabajará:"
   ]
  },
  {
   "cell_type": "code",
   "execution_count": 3,
   "metadata": {},
   "outputs": [
    {
     "name": "stdout",
     "output_type": "stream",
     "text": [
      "2\n",
      "4\n",
      "6\n"
     ]
    }
   ],
   "source": [
    "for i in range(begin+1,end+1,2):\n",
    "    print(i)"
   ]
  },
  {
   "cell_type": "code",
   "execution_count": 4,
   "metadata": {},
   "outputs": [],
   "source": [
    "begin=7\n",
    "end=12"
   ]
  },
  {
   "cell_type": "markdown",
   "metadata": {},
   "source": [
    "Los siguientes índices que se multiplican por 4 y son los índices que el subproceso 1 trabajará:"
   ]
  },
  {
   "cell_type": "code",
   "execution_count": 6,
   "metadata": {},
   "outputs": [
    {
     "name": "stdout",
     "output_type": "stream",
     "text": [
      "7\n",
      "9\n",
      "11\n"
     ]
    }
   ],
   "source": [
    "for i in range(begin,end+1,2):\n",
    "    print(i)"
   ]
  },
  {
   "cell_type": "markdown",
   "metadata": {},
   "source": [
    "Estos son los siguientes índices que se multiplican por 2 y son los índices que el subproceso 1 trabajará:"
   ]
  },
  {
   "cell_type": "code",
   "execution_count": 7,
   "metadata": {},
   "outputs": [
    {
     "name": "stdout",
     "output_type": "stream",
     "text": [
      "8\n",
      "10\n",
      "12\n"
     ]
    }
   ],
   "source": [
    "for i in range(begin+1,end+1,2):\n",
    "    print(i)"
   ]
  },
  {
   "cell_type": "code",
   "execution_count": 8,
   "metadata": {},
   "outputs": [],
   "source": [
    "import math\n",
    "from multiprocessing import Pool \n",
    "from scipy.integrate import quad\n",
    "import time\n",
    "import multiprocessing as mp"
   ]
  },
  {
   "cell_type": "markdown",
   "metadata": {},
   "source": [
    "**¿Qué restricciones se deben colocar a las variables $n, ns\\text{_}p$ y $p$ para que el programa siguiente obtenga resultados correctos?**\n",
    "\n",
    "por ejemplo si pruebas con $n=6, p=2, ns\\text{_}p=6$ obtienes un error relativo de $10^{-7}$."
   ]
  },
  {
   "cell_type": "markdown",
   "metadata": {},
   "source": [
    "Para responder a la pregunta anterior, primero veamos qué pasa cuando $n=5$, $p=2$ y entonces $ns\\text{_}p=5$.\n",
    "\n",
    "Sean las siguientes variables el inicio y fin de los subprocesos 0 y 1, respectivamente:\n",
    "\n",
    "$begin = (mi\\text{_}id*ns\\text{_}p)+1 = (0*5)+1=1$\n",
    "\n",
    "$end = begin-1+ns\\text{_}p=1-1+5=5$\n",
    "\n",
    "$begin = (mi\\text{_}id*ns\\text{_}p)+1 = (1*5)+1=6$\n",
    "\n",
    "$end = begin-1+ns\\text{_}p=6-1+5=10$\n",
    "\n",
    "Teniendo así los siguientes índices:"
   ]
  },
  {
   "cell_type": "code",
   "execution_count": 24,
   "metadata": {},
   "outputs": [],
   "source": [
    "begin=1\n",
    "end=5"
   ]
  },
  {
   "cell_type": "markdown",
   "metadata": {},
   "source": [
    "índices que se multiplicarán por 4 en el subproceso 0:"
   ]
  },
  {
   "cell_type": "code",
   "execution_count": 25,
   "metadata": {},
   "outputs": [
    {
     "name": "stdout",
     "output_type": "stream",
     "text": [
      "1\n",
      "3\n",
      "5\n"
     ]
    }
   ],
   "source": [
    "for i in range(begin,end+1,2):\n",
    "    print(i)"
   ]
  },
  {
   "cell_type": "markdown",
   "metadata": {},
   "source": [
    "índices que se multiplicarán por 2 en el subproceso 0:"
   ]
  },
  {
   "cell_type": "code",
   "execution_count": 26,
   "metadata": {},
   "outputs": [
    {
     "name": "stdout",
     "output_type": "stream",
     "text": [
      "2\n",
      "4\n"
     ]
    }
   ],
   "source": [
    "for i in range(begin+1,end+1,2):\n",
    "    print(i)"
   ]
  },
  {
   "cell_type": "code",
   "execution_count": 27,
   "metadata": {},
   "outputs": [],
   "source": [
    "begin=6\n",
    "end=10"
   ]
  },
  {
   "cell_type": "markdown",
   "metadata": {},
   "source": [
    "índices que se multiplicarán por 4 en el subproceso 1:"
   ]
  },
  {
   "cell_type": "code",
   "execution_count": 28,
   "metadata": {},
   "outputs": [
    {
     "name": "stdout",
     "output_type": "stream",
     "text": [
      "6\n",
      "8\n",
      "10\n"
     ]
    }
   ],
   "source": [
    "for i in range(begin,end+1,2):\n",
    "    print(i)"
   ]
  },
  {
   "cell_type": "markdown",
   "metadata": {},
   "source": [
    "índices que se multiplicarán por 2 en el subproceso 1:"
   ]
  },
  {
   "cell_type": "code",
   "execution_count": 29,
   "metadata": {},
   "outputs": [
    {
     "name": "stdout",
     "output_type": "stream",
     "text": [
      "7\n",
      "9\n"
     ]
    }
   ],
   "source": [
    "for i in range(begin+1,end+1,2):\n",
    "    print(i)"
   ]
  },
  {
   "cell_type": "markdown",
   "metadata": {},
   "source": [
    "Los índices impares son los que se deben multiplicar por 4 y los pares por 2 y cómo se puede ver en los for's anteriores en el subproceso 0, sí se está haciendo correctamente pero, en el subproceso 1 los pares se están multiplicando 4 y los impares por 2, lo cuál es incorrecto.\n",
    "\n",
    "Lo que se debe cumplir para que los índices impares se multipliquen por 4 y los pares por 2 es que la variable begin sea siempre impar. Es decir, esta variable tiene que ser de la forma $2k+1$:\n",
    "\n",
    "$ begin = (mi\\text{_}id*ns\\text{_}p)+1 = 2*k+1$, entonces $mi\\text{_}id*ns\\text{_}p=2*k$\n",
    "\n",
    "Lo que quiere decir que el producto anterior debe ser par. Para que un producto entre dos números sea par se deben cumplir los siguientes casos:\n",
    "\n",
    "1.-$mi\\text{_}id$ sea par y $ns\\text{_}p$ sea par\n",
    "\n",
    "2.-$mi\\text{_}id$ sea impar y $ns\\text{_}p$ sea par\n",
    "\n",
    "3.-$mi\\text{_}id$ sea par y $ns\\text{_}p$ sea impar\n",
    "\n",
    "Sin embargo, el caso 3 no se podría cumplir dado que $mi\\text{_}id$ puede ser par o impar, por lo que la única opción de que ésto se cumpla es en los casos 1 y 2, es decir, que $ns\\text{_}p$ sea par.\n",
    "\n",
    "$$ns\\text{_}p=\\frac{2*n}{p}$$\n",
    "\n",
    "Para que el cociente anterior sea par, dado que el numerador es par, $p$ puede ser par o impar y de igual forma $n$ puede ser par o impar, más específicamente:\n",
    "\n",
    "$\\frac{2*n}{p}=2*k$ entonces $\\frac{n}{p}=k$ por lo que $n=p*k$\n",
    "\n",
    "Otro punto importante de observar es que al algoritmo se le está aplicando la función entero, por lo que si el número de nodos $(2*n)$ no es divisible entre el número de subprocesos ($p$), se estarán perdiendo nodos por evalúar.\n",
    "\n",
    "**Dado lo anterior, $ns\\text{_}p$ debe ser par y entero y $n$ tiene que ser múltiplo de $p$ para que el programa siguiente obtenga resultados correctos.**\n"
   ]
  },
  {
   "cell_type": "code",
   "execution_count": 9,
   "metadata": {},
   "outputs": [],
   "source": [
    "a=0\n",
    "b=1\n",
    "h=b-a\n",
    "f=lambda x: math.exp(-x**2)"
   ]
  },
  {
   "cell_type": "code",
   "execution_count": 10,
   "metadata": {},
   "outputs": [],
   "source": [
    "p=2"
   ]
  },
  {
   "cell_type": "code",
   "execution_count": 11,
   "metadata": {},
   "outputs": [],
   "source": [
    "n=6\n",
    "h_hat=h/n"
   ]
  },
  {
   "cell_type": "code",
   "execution_count": 12,
   "metadata": {},
   "outputs": [],
   "source": [
    "nt=2*n #variable de apoyo para definir ns_p\n",
    "ns_p=nt/p"
   ]
  },
  {
   "cell_type": "code",
   "execution_count": 13,
   "metadata": {},
   "outputs": [
    {
     "data": {
      "text/plain": [
       "12"
      ]
     },
     "execution_count": 13,
     "metadata": {},
     "output_type": "execute_result"
    }
   ],
   "source": [
    "nt"
   ]
  },
  {
   "cell_type": "code",
   "execution_count": 14,
   "metadata": {},
   "outputs": [
    {
     "data": {
      "text/plain": [
       "6.0"
      ]
     },
     "execution_count": 14,
     "metadata": {},
     "output_type": "execute_result"
    }
   ],
   "source": [
    "ns_p"
   ]
  },
  {
   "cell_type": "code",
   "execution_count": 16,
   "metadata": {},
   "outputs": [
    {
     "data": {
      "text/plain": [
       "6"
      ]
     },
     "execution_count": 16,
     "metadata": {},
     "output_type": "execute_result"
    }
   ],
   "source": [
    "ns_p=int(ns_p)\n",
    "ns_p"
   ]
  },
  {
   "cell_type": "code",
   "execution_count": 17,
   "metadata": {},
   "outputs": [],
   "source": [
    "def Scf_parallel(mi_id):\n",
    "    \"\"\"\n",
    "    Compute numerical approximation using Simpson rule in an interval\n",
    "    Nodes are generated via formula: x_i = a+i/2*h_hat for i=0,1,...,2n and h_hat=(b-a)/n\n",
    "    n must be an even number\n",
    "    Args:\n",
    "        mi_id (in): id of subprocess: 0,1,2,...\n",
    "    \"\"\"\n",
    "    begin = (mi_id*ns_p)+1\n",
    "    end = begin-1+ns_p\n",
    "    sum1=0\n",
    "    #next for loop considers sum that is multiplied by 4 in the expression\n",
    "    for i in range(begin,end+1,2):\n",
    "        x = a+i/2*h_hat\n",
    "        sum1+=f(x)\n",
    "    sum1=4*sum1\n",
    "    sum2=0\n",
    "    #next for loop considers sum that is multiplied by 2 in the expression\n",
    "    for i in range(begin+1,end+1,2):\n",
    "        x = a+i/2*h_hat\n",
    "        sum2+=f(x)\n",
    "    sum2=2*sum2\n",
    "    return sum1+sum2\n",
    "\n",
    "if __name__=='__main__':\n",
    "    start_time=time.time()\n",
    "    with Pool(processes=p) as pool:\n",
    "        results = pool.map(Scf_parallel,range(p))\n",
    "        aprox=h/(6*n)*(f(a)+sum(results)-f(b)) \n",
    "    end_time=time.time()"
   ]
  },
  {
   "cell_type": "markdown",
   "metadata": {},
   "source": [
    "**En el bloque del with ¿por qué tenemos que dividir por $\\frac{}{6n}$ en lugar de por $\\frac{}{3n}$ y por qué tenemos que restar $f(b)$?**"
   ]
  },
  {
   "cell_type": "code",
   "execution_count": 18,
   "metadata": {},
   "outputs": [
    {
     "data": {
      "text/plain": [
       "0.7468245263791945"
      ]
     },
     "execution_count": 18,
     "metadata": {},
     "output_type": "execute_result"
    }
   ],
   "source": [
    "aprox"
   ]
  },
  {
   "cell_type": "code",
   "execution_count": 19,
   "metadata": {},
   "outputs": [],
   "source": [
    "obj, err = quad(f, a, b)"
   ]
  },
  {
   "cell_type": "code",
   "execution_count": 20,
   "metadata": {},
   "outputs": [
    {
     "data": {
      "text/plain": [
       "0.7468241328124271"
      ]
     },
     "execution_count": 20,
     "metadata": {},
     "output_type": "execute_result"
    }
   ],
   "source": [
    "obj"
   ]
  },
  {
   "cell_type": "code",
   "execution_count": 21,
   "metadata": {},
   "outputs": [],
   "source": [
    "def err_relativo(aprox, obj):\n",
    "    return math.fabs(aprox-obj)/math.fabs(obj) #obsérvese el uso de la librería math"
   ]
  },
  {
   "cell_type": "code",
   "execution_count": 22,
   "metadata": {},
   "outputs": [
    {
     "data": {
      "text/plain": [
       "5.26987211722925e-07"
      ]
     },
     "execution_count": 22,
     "metadata": {},
     "output_type": "execute_result"
    }
   ],
   "source": [
    "err_relativo(aprox,obj)"
   ]
  },
  {
   "cell_type": "markdown",
   "metadata": {},
   "source": [
    "**¿Qué pasa si $n$ no es par? ¿qué tendríamos que modificar en la implementación si no es par?**"
   ]
  }
 ],
 "metadata": {
  "kernelspec": {
   "display_name": "Python 3",
   "language": "python",
   "name": "python3"
  },
  "language_info": {
   "codemirror_mode": {
    "name": "ipython",
    "version": 3
   },
   "file_extension": ".py",
   "mimetype": "text/x-python",
   "name": "python",
   "nbconvert_exporter": "python",
   "pygments_lexer": "ipython3",
   "version": "3.7.4"
  }
 },
 "nbformat": 4,
 "nbformat_minor": 4
}
